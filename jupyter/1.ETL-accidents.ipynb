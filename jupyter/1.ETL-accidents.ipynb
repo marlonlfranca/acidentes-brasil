{
 "cells": [
  {
   "cell_type": "markdown",
   "id": "ebcb0d2f-8686-4aae-937e-c8bfa04dda8f",
   "metadata": {},
   "source": [
    "## Extração, tratamento e limpeza dos dados!"
   ]
  },
  {
   "cell_type": "code",
   "execution_count": 1,
   "id": "0106259f-7d54-4d78-8059-5bdfd941f4c4",
   "metadata": {},
   "outputs": [
    {
     "ename": "SyntaxError",
     "evalue": "invalid syntax (195352460.py, line 1)",
     "output_type": "error",
     "traceback": [
      "\u001b[1;36m  Cell \u001b[1;32mIn[1], line 1\u001b[1;36m\u001b[0m\n\u001b[1;33m    Instalando as bibliotecas que não são instaladas (por padrão) no Jupyter Notebook:\u001b[0m\n\u001b[1;37m               ^\u001b[0m\n\u001b[1;31mSyntaxError\u001b[0m\u001b[1;31m:\u001b[0m invalid syntax\n"
     ]
    }
   ],
   "source": [
    "Instalando as bibliotecas que não são instaladas (por padrão) no Jupyter Notebook:\n",
    "!pip install plotly"
   ]
  },
  {
   "cell_type": "code",
   "execution_count": null,
   "id": "0098a1a5-9e97-4774-9188-9497388ae38a",
   "metadata": {},
   "outputs": [],
   "source": [
    "# Importando as bibliotecas necessárias:\n",
    "import pandas as pd\n",
    "import numpy as np"
   ]
  },
  {
   "cell_type": "code",
   "execution_count": null,
   "id": "227631ec-36c6-4e93-8a7f-766640dfcb77",
   "metadata": {},
   "outputs": [],
   "source": [
    "# Lendo o arquivo CSV:\n",
    "data = pd.read_csv(\"AccidentsPortugues.csv\")\n",
    "data.head()"
   ]
  },
  {
   "cell_type": "code",
   "execution_count": null,
   "id": "432efa96-475d-4f31-9442-c6745f94a344",
   "metadata": {},
   "outputs": [],
   "source": [
    "# Visualizando as informações sobre as colunas do dataset:\n",
    "data.info()"
   ]
  },
  {
   "cell_type": "code",
   "execution_count": null,
   "id": "4570cab9-6654-4b9c-9242-1b220ff6e53e",
   "metadata": {},
   "outputs": [],
   "source": [
    "# Visualizando os valores nulos do dataset:\n",
    "print(data.isnull().sum())"
   ]
  },
  {
   "cell_type": "markdown",
   "id": "6a48d760-5e24-49eb-ae30-9f79842f1af9",
   "metadata": {},
   "source": [
    "#### Há valores nulos nas colunas \"br\", \"km\", \"tipo_acidente\", \"regional\" e \"delegacia\". Esses valores precisam ser tratados entendendo a causa da invalidez de cada um!"
   ]
  },
  {
   "cell_type": "code",
   "execution_count": null,
   "id": "282557cb-26ba-4ae8-a013-507a911dbe12",
   "metadata": {},
   "outputs": [],
   "source": [
    "# A coluna \"br\" deve ser lida como string, porém, foi interpretada automaticamente como float (pois os nomes das BRs são números).\n",
    "# Antes de alterar o dataset, deve-se fazer uma cópia dos dados:\n",
    "data_backup = data.copy()\n",
    "\n",
    "# Com o backup feito, pode-se alterar a coluna \"br\" de \"float\" para \"string\" (no jupyter notebook as strings são identificadas como \"object\"):\n",
    "data['br'] = data['br'].astype(str).str.split('.').str[0]"
   ]
  },
  {
   "cell_type": "code",
   "execution_count": null,
   "id": "bb3989e8-9802-40a8-a384-ec331a7ed3a8",
   "metadata": {},
   "outputs": [],
   "source": [
    "# Visualizando os dados nulos após a alteração:\n",
    "print(data.isnull().sum())"
   ]
  },
  {
   "cell_type": "code",
   "execution_count": null,
   "id": "b16a2150-d4f1-48f1-85cc-44739f195b49",
   "metadata": {},
   "outputs": [],
   "source": [
    "# Restam 2350 nulos, porém, as causas desses nulos não são relevantes.\n",
    "# Então, se o total de nulos não afetar a estatística (<1%), essas linhas podem ser removidas.\n",
    "\n",
    "print(data.shape)"
   ]
  },
  {
   "cell_type": "code",
   "execution_count": null,
   "id": "fdd2a643-56ae-4bd5-8a96-ce839612d843",
   "metadata": {},
   "outputs": [],
   "source": [
    "# Como existem 463.152 linhas e apenas 2.350 são nulos, todos os nulos restantes serão removidos, pois representam 0,5% dos dados.\n",
    "data = data.dropna()\n",
    "\n",
    "# Visualizando a informação de nulos:\n",
    "print(data.isnull().sum())\n",
    "\n",
    "#visualizando o total de linhas no dataset, estes serão os dados analisados:\n",
    "print(data.shape)"
   ]
  },
  {
   "cell_type": "code",
   "execution_count": null,
   "id": "1d88daf7-5f75-4cd9-a402-20c625105fb8",
   "metadata": {
    "scrolled": true
   },
   "outputs": [],
   "source": [
    "# Novamente, visualizando os dados da tabela para iniciar a análise a respeito dos acidentes:\n",
    "data.head()"
   ]
  },
  {
   "cell_type": "code",
   "execution_count": null,
   "id": "846f6325-cc2f-4944-b4eb-e5949ad41b15",
   "metadata": {},
   "outputs": [],
   "source": [
    "# Muitas perguntas são feitas, incluindo: Quantos acidentes acontecem em cada ano/mês/dia? \n",
    "data[\"data_inversa\"].value_counts()"
   ]
  },
  {
   "cell_type": "code",
   "execution_count": null,
   "id": "fc805bc6-8e7c-46a8-b61e-c3b150f9a8b3",
   "metadata": {},
   "outputs": [],
   "source": [
    "# Cada valor único (data única) foi contado como objeto (string), pois o formato atual da coluna \"data_inversa\" não é numérico.\n",
    "data[\"data_inversa\"].info"
   ]
  },
  {
   "cell_type": "code",
   "execution_count": null,
   "id": "1f687985-961d-44c7-ae4b-026451027cb1",
   "metadata": {},
   "outputs": [],
   "source": [
    "# Para obter o resultado que eu desejo, o formato dessa coluna deve ser alterado de \"object\" para \"datetime\".\n",
    "# Antes, o backup:\n",
    "data_backup2 = data.copy()\n",
    "\n",
    "# Agora, a alteração:\n",
    "data['data_inversa'] = pd.to_datetime(data['data_inversa'])\n",
    "\n",
    "# Visualizando o tipo de dado na coluna data_inversa:\n",
    "data['data_inversa'].info()"
   ]
  }
 ],
 "metadata": {
  "kernelspec": {
   "display_name": "Python 3 (ipykernel)",
   "language": "python",
   "name": "python3"
  },
  "language_info": {
   "codemirror_mode": {
    "name": "ipython",
    "version": 3
   },
   "file_extension": ".py",
   "mimetype": "text/x-python",
   "name": "python",
   "nbconvert_exporter": "python",
   "pygments_lexer": "ipython3",
   "version": "3.12.8"
  }
 },
 "nbformat": 4,
 "nbformat_minor": 5
}
