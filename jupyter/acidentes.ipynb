{
 "cells": [
  {
   "cell_type": "markdown",
   "id": "ebcb0d2f-8686-4aae-937e-c8bfa04dda8f",
   "metadata": {},
   "source": [
    "## Instalar as bibliotecas necessárias para a análise"
   ]
  },
  {
   "cell_type": "code",
   "execution_count": null,
   "id": "0106259f-7d54-4d78-8059-5bdfd941f4c4",
   "metadata": {},
   "outputs": [],
   "source": [
    "!pip install plotly"
   ]
  },
  {
   "cell_type": "code",
   "execution_count": null,
   "id": "0098a1a5-9e97-4774-9188-9497388ae38a",
   "metadata": {},
   "outputs": [],
   "source": [
    "import pandas as pd\n",
    "import numpy as np"
   ]
  },
  {
   "cell_type": "markdown",
   "id": "be38b9ae-2b22-4e34-81cb-5b7793611166",
   "metadata": {},
   "source": [
    "##### Ler o arquivo CSV"
   ]
  },
  {
   "cell_type": "code",
   "execution_count": null,
   "id": "227631ec-36c6-4e93-8a7f-766640dfcb77",
   "metadata": {},
   "outputs": [],
   "source": [
    "data = pd.read_csv(\"AccidentsPortugues.csv\")\n",
    "data.head()"
   ]
  },
  {
   "cell_type": "code",
   "execution_count": null,
   "id": "432efa96-475d-4f31-9442-c6745f94a344",
   "metadata": {},
   "outputs": [],
   "source": [
    "# Visualizar as informações sobre as colunas do dataset\n",
    "data.info()"
   ]
  },
  {
   "cell_type": "code",
   "execution_count": null,
   "id": "4570cab9-6654-4b9c-9242-1b220ff6e53e",
   "metadata": {},
   "outputs": [],
   "source": [
    "# Visualizar os valores nulos do dataset\n",
    "print(data.isnull().sum())"
   ]
  },
  {
   "cell_type": "markdown",
   "id": "6a48d760-5e24-49eb-ae30-9f79842f1af9",
   "metadata": {},
   "source": [
    "#### Há valores nulos nas colunas \"br\", \"km\", \"tipo_acidente\", \"regional\" e \"delegacia\". Esses valores precisam ser tratados entendendo a causa da invalidez de cada um"
   ]
  },
  {
   "cell_type": "code",
   "execution_count": null,
   "id": "282557cb-26ba-4ae8-a013-507a911dbe12",
   "metadata": {},
   "outputs": [],
   "source": [
    "# A coluna \"br\" deve ser string, mas foi interpretada automaticamente como float (pois os nomes das BRs são números).\n",
    "# Antes de converter os dados, é preciso fazer uma cópia do dataset\n",
    "data_backup = data.copy()\n",
    "\n",
    "# Com o backup feito, posso alterar a coluna \"br\" para string\n",
    "data['br'] = data['br'].astype(str).str.split('.').str[0]\n",
    "\n",
    "# Visualizando os dados nulos após a alteração\n",
    "print(data.isnull().sum())"
   ]
  },
  {
   "cell_type": "code",
   "execution_count": null,
   "id": "b16a2150-d4f1-48f1-85cc-44739f195b49",
   "metadata": {},
   "outputs": [],
   "source": [
    "# Restam poucos nulos, então vou verificar a quantidade total de linhas para me certificar que a remoção dos nulos não afetará a estatística.\n",
    "\n",
    "print(data.shape)"
   ]
  },
  {
   "cell_type": "code",
   "execution_count": null,
   "id": "fdd2a643-56ae-4bd5-8a96-ce839612d843",
   "metadata": {},
   "outputs": [],
   "source": [
    "# Como existem 463.152 linhas, vou remover todos os nulos restantes.\n",
    "data = data.dropna()\n",
    "\n",
    "# Visualizando a informação de nulos\n",
    "print(data.isnull().sum())\n",
    "\n",
    "#visualizando o total de linhas no dataset, estes serão os dados analisados\n",
    "print(data.shape)"
   ]
  },
  {
   "cell_type": "code",
   "execution_count": null,
   "id": "1d88daf7-5f75-4cd9-a402-20c625105fb8",
   "metadata": {},
   "outputs": [],
   "source": [
    "# Novamente, visualizando os dados da tabela para iniciar a análise a respeito dos acidentes\n",
    "data.head()"
   ]
  },
  {
   "cell_type": "code",
   "execution_count": null,
   "id": "8844d4bd-c99c-4046-8026-a9a0c24a24d9",
   "metadata": {},
   "outputs": [],
   "source": [
    "# Com a visualização, algumas perguntas surgem, para respondê-las, vou utilizar gráficos, e para isso, vou importar a biblioteca de visualização.\n",
    "import matplotlib.pyplot as plt\n",
    "\n",
    "# Qual a BR com mais acidentes?\n",
    "acidentes_br = data[\"br\"].value_counts().nlargest(10)\n",
    "\n",
    "acidentes_br.plot(kind='bar', title='Acidentes por BR')\n",
    "plt.xlabel('BR')\n",
    "plt.ylabel('acidentes')\n",
    "plt.show()"
   ]
  },
  {
   "cell_type": "code",
   "execution_count": null,
   "id": "96c4c301-69a6-4339-8cac-339c77a323b0",
   "metadata": {},
   "outputs": [],
   "source": [
    "# Quantos acidentes têm vítimas feridas, fatais ou não possui vítimas?\n",
    "class_acidente = data[\"classificacao_acidente\"].value_counts().nlargest(10)\n",
    "\n",
    "class_acidente.plot(kind='bar', title='Acidentes por classe')\n",
    "plt.xlabel('Clasificação')\n",
    "plt.ylabel('acidentes')\n",
    "plt.show()"
   ]
  },
  {
   "cell_type": "code",
   "execution_count": null,
   "id": "61b5d58b-f26c-4934-89a6-31e05df427d6",
   "metadata": {},
   "outputs": [],
   "source": [
    "# Qual UF tem mais acidentes?\n",
    "acidentes_uf = data[\"uf\"].value_counts().nlargest(10)\n",
    "\n",
    "acidentes_uf.plot(kind='bar', title='Acidentes por UF')\n",
    "plt.xlabel('UF')\n",
    "plt.ylabel('Acidentes')\n",
    "plt.show()"
   ]
  },
  {
   "cell_type": "code",
   "execution_count": null,
   "id": "f32ae3a4-0b88-4dcd-bbd1-f398cee859d1",
   "metadata": {},
   "outputs": [],
   "source": [
    "# Qual dia da semana tem mais acidentes?\n",
    "acidentes_dia_semana = data[\"dia_semana\"].value_counts().nlargest(10)\n",
    "\n",
    "acidentes_dia_semana.plot(kind='bar', title='Acidentes por dia da semana')\n",
    "plt.xlabel('Dia Semana')\n",
    "plt.ylabel('Acidentes')\n",
    "plt.show()"
   ]
  },
  {
   "cell_type": "code",
   "execution_count": null,
   "id": "e8189636-045c-4ce3-b0f3-d89a03e8d0cf",
   "metadata": {},
   "outputs": [],
   "source": [
    "# Qual o tipo de acidente mais comum?\n",
    "tipo_acidente = data[\"tipo_acidente\"].value_counts().nlargest(10)\n",
    "\n",
    "tipo_acidente.plot(kind='bar', title='Tipos de acidentes')\n",
    "plt.xlabel('Tipo')\n",
    "plt.ylabel('Acidentes')\n",
    "plt.show()"
   ]
  },
  {
   "cell_type": "code",
   "execution_count": null,
   "id": "7705e6ce-fa62-443f-bcbd-2466bbda5fb3",
   "metadata": {},
   "outputs": [],
   "source": [
    "# Qual a causa de acidente mais comum?\n",
    "print(\"Causas comuns de acidentes\")\n",
    "data[\"causa_acidente\"].value_counts()"
   ]
  },
  {
   "cell_type": "code",
   "execution_count": null,
   "id": "846f6325-cc2f-4944-b4eb-e5949ad41b15",
   "metadata": {},
   "outputs": [],
   "source": [
    "# Quantos acidentes por ano?\n",
    "data[\"data_inversa\"].value_counts()"
   ]
  },
  {
   "cell_type": "code",
   "execution_count": null,
   "id": "1f687985-961d-44c7-ae4b-026451027cb1",
   "metadata": {},
   "outputs": [],
   "source": [
    "# Para somar o total de acidentes por ano, é necessário modificar o formato da coluna \"data_inversa\", de string para datetime.\n",
    "# Antes de alterar, farei outro backup.\n",
    "data_backup2 = data.copy()\n",
    "\n",
    "# Agora, vou alterar\n",
    "data['data_inversa'] = pd.to_datetime(data['data_inversa'])\n",
    "\n",
    "# Visualizar o tipo de dado na coluna\n",
    "data.info()"
   ]
  },
  {
   "cell_type": "code",
   "execution_count": null,
   "id": "e3fb88b4-1187-4204-b690-90c4d79f4851",
   "metadata": {},
   "outputs": [],
   "source": [
    "# Agora posso somar o total de acidentes por ano\n",
    "acidentes_por_ano = data['data_inversa'].dt.year.value_counts().sort_index()\n",
    "\n",
    "acidentes_por_ano.plot(kind='bar', title='Acidentes por Ano')\n",
    "plt.xlabel('Ano')\n",
    "plt.ylabel('Acidentes')\n",
    "plt.show()"
   ]
  },
  {
   "cell_type": "markdown",
   "id": "8e2d7ecf-a00f-4922-ac57-fe83ea3eb2d6",
   "metadata": {},
   "source": [
    "## Buscando correlações"
   ]
  },
  {
   "cell_type": "code",
   "execution_count": null,
   "id": "e678c9ee-6d7a-4a08-a96a-aaae74781e93",
   "metadata": {},
   "outputs": [],
   "source": [
    "data.info()"
   ]
  },
  {
   "cell_type": "code",
   "execution_count": null,
   "id": "d4d6650b-9dd1-4ac4-998f-6e16f3e491ed",
   "metadata": {},
   "outputs": [],
   "source": [
    "# Backup dos dados antes das alterações no dataset\n",
    "backup3 = data.copy()"
   ]
  },
  {
   "cell_type": "code",
   "execution_count": null,
   "id": "f03bf385-35df-447a-89d7-c6fe0fc2360f",
   "metadata": {},
   "outputs": [],
   "source": [
    "# Para criar o mapa de correlação, preciso instalar o sklearning.preprocessing, que transformará os dados para gerar a visualização.\n",
    "!pip install sklearn.preprocessing"
   ]
  },
  {
   "cell_type": "code",
   "execution_count": null,
   "id": "b0fc7e50-43fc-4602-ba88-6b38ce7367c6",
   "metadata": {},
   "outputs": [],
   "source": [
    "# Com o sk instalado, vou importar o LabelEncoder, que armazena o valor numérico que será inserido para cada valor objeto ou categórico\n",
    "from sklearn.preprocessing import LabelEncoder\n",
    "\n",
    "# Agora, vou selecionar apenas as colunas categóricas e strings\n",
    "cat_cols = data.select_dtypes(include=['object', 'category']).columns\n",
    "\n",
    "# Codificar automaticamente com o LabelEncoder\n",
    "label_encoders = {}\n",
    "data_encoded = data.copy()\n",
    "\n",
    "# Atribuir valor numérico às colunas selecionadas\n",
    "for col in cat_cols:\n",
    "    le = LabelEncoder()\n",
    "    data_encoded[col] = le.fit_transform(data[col].astype(str))\n",
    "    label_encoders[col] = le  # Guarda os encoders para referência\n",
    "\n",
    "# Criar o heatmap de correlação (Spearman)\n",
    "plt.figure(figsize=(20, 15))\n",
    "sns.heatmap(data_encoded.corr(method='spearman'), \n",
    "            annot=True, \n",
    "            fmt=\".2f\", \n",
    "            cmap='coolwarm',\n",
    "            center=0,\n",
    "            vmin=-1,\n",
    "            vmax=1)\n",
    "plt.title('Matriz de Correlação (Spearman)')\n",
    "plt.show()"
   ]
  },
  {
   "cell_type": "code",
   "execution_count": null,
   "id": "93e982b7-a8e6-4a81-9c87-cd275a3edd18",
   "metadata": {},
   "outputs": [],
   "source": [
    "# Já sei quais as BRs ondem ocorrem mais acidentes, mas preciso descobrir quais as BRs que mais têm acidentes fatais.\n",
    "top_br_mortos = data.groupby('br')['mortos'].sum().nlargest(10)\n",
    "\n",
    "top_br_mortos.plot(kind='bar', title='Mortos por BR')\n",
    "plt.xlabel('BR')\n",
    "plt.ylabel('Mortos')\n",
    "plt.show()"
   ]
  },
  {
   "cell_type": "code",
   "execution_count": null,
   "id": "57768782-2de3-4f40-b20d-37fb7d3453ab",
   "metadata": {},
   "outputs": [],
   "source": [
    "# Sabendo que as BRs 101 e 116 têm (cada uma) mais que o dobro de mortes que as demais BRs, quero identificar padrões nos acidentes.\n",
    "# Para isso, vou filtrar dados para BR-101 e BR-116\n",
    "brs_criticas = data[data['br'].isin([101, 116])]\n",
    "\n",
    "# Agrupar por BR e analisar fatores\n",
    "fatores = ['tipo_acidente', 'condicao_metereologica', 'fase_dia', 'tipo_pista','veiculos']\n",
    "for fator in fatores:\n",
    "    print(f\"\\nDistribuição de {fator} nas BRs 101 e 116:\")\n",
    "    display(pd.crosstab(brs_criticas['br'], brs_criticas[fator], normalize='index'))"
   ]
  },
  {
   "cell_type": "code",
   "execution_count": null,
   "id": "b0ed0729-0bfb-4f56-b1cf-0aef42f2ea9e",
   "metadata": {},
   "outputs": [],
   "source": [
    "# Alguns insights obtidos com o resultado:\n",
    "\n",
    "# 1. 91,33% dos acidentes envolvem ATÉ 2 CARROS.\n",
    "# 2. 49% das mortes ocorrem em PISTAS DUPLAS, 15% em PISTAS MÚLTIPLAS e 36% em PISTAS SIMPLES.\n",
    "# 3. 53% das mortes ocorrem em PLENO DIA, 35% em PLENA NOITE.\n",
    "# 4. 53% das mortes ocorrem sob CÉU CLARO, 11% sob CHUVA.\n",
    "# 5. 21% das mortes vêm da COLISÃO TRASEIRA, 10% vêm de COLISÃO TRANSVERSAL, 11% vêm da SAÍDA DO LEITO CARROÇÁVEL (saída da pista)."
   ]
  },
  {
   "cell_type": "code",
   "execution_count": null,
   "id": "4cde1d6a-9eff-4a42-b098-c44d1517fbef",
   "metadata": {},
   "outputs": [],
   "source": [
    "# Agora, quero entender a correlação entre o tipo de acidente e o tipo de pista, para isso, usarei a biblioteca seaborn:\n",
    "import seaborn as sns\n",
    "\n",
    "sns.heatmap(\n",
    "    pd.crosstab(\n",
    "        data['tipo_pista'], \n",
    "        data['tipo_acidente'], \n",
    "        values=data['mortos'], \n",
    "        aggfunc='sum',\n",
    "        normalize='index'\n",
    "    ),\n",
    "    annot=False,\n",
    "    fmt=\".1%\",\n",
    "    cmap='Reds'\n",
    ")\n",
    "plt.title('Proporção de Mortes por Tipo de Pista e Acidente');"
   ]
  },
  {
   "cell_type": "code",
   "execution_count": null,
   "id": "9267d885-a756-4ca7-99cd-fd49c89fe828",
   "metadata": {},
   "outputs": [],
   "source": [
    "# Insights obtidos com o heatmap:\n",
    "\n",
    "# 1. A COLISÃO FRONTAL tem correlação FORTE com PISTA SIMPLES.\n",
    "# 2. O ATROPELAMENTO DE PEDESTRE tem correlação FORTE com PISTAS DUPLAS E MÚLTIPLAS, e FRACA com PISTAS SIMPLES.\n",
    "# 3. A SAÍDA DO LEITO CARROÇÁVEL tem correlação FORTE com PISTAS SIMPLES E DUPLAS, e FRACA com PISTAS MÚLTIPLAS."
   ]
  },
  {
   "cell_type": "markdown",
   "id": "475a5955-133e-410e-8bdf-ddb0deb56f84",
   "metadata": {},
   "source": [
    "## Fim."
   ]
  }
 ],
 "metadata": {
  "kernelspec": {
   "display_name": "Python 3 (ipykernel)",
   "language": "python",
   "name": "python3"
  },
  "language_info": {
   "codemirror_mode": {
    "name": "ipython",
    "version": 3
   },
   "file_extension": ".py",
   "mimetype": "text/x-python",
   "name": "python",
   "nbconvert_exporter": "python",
   "pygments_lexer": "ipython3",
   "version": "3.12.8"
  }
 },
 "nbformat": 4,
 "nbformat_minor": 5
}
